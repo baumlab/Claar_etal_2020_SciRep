{
 "cells": [
  {
   "cell_type": "code",
   "execution_count": null,
   "metadata": {
    "collapsed": true
   },
   "outputs": [],
   "source": [
    "#### Start in KI_Compartment root folder\n",
    "# You must have SymITS2 and all its dependencies installed and working from your home folder (i.e. at ~/SymITS2)\n",
    "# You must have a working version of QIIME, with UCLUST and USEARCH61 installed.\n",
    "# You must have the nucleotide NCBI blast database locally on your machine, and a working version of blast\n",
    "    # You might want to put this on a hard drive, as it is currently ~94GB of data (as of August 1, 2017)\n",
    "    # Download Blastdb from ftp://ftp.ncbi.nlm.nih.gov/blast/documents/blastdb.html, dataset: nt.*tar.gz.\n",
    "    # Then make sure to unzip all folders and place in one folder called \"blastdb\"\n",
    "    # Mine is at \"/media/danielle/CoralDrive/blastdb\"\n",
    "    # For getting blast installed on Linux Ubuntu, this website was helpful: http://www.blopig.com/blog/2014/04/quick-standalone-blast-setup-for-ubuntu-linux/\n",
    "# You must have an updated version of R, I used R 3.4.1 (2017-06-30, Single Candle)\n",
    "    # Required R packages are specified in SymITS2\n",
    "\n",
    "# Prep raw data\n",
    "chmod u+x data/Bioinf/extract_unzip_prep_rawdata.sh # Make sure script can run\n",
    "data/Bioinf/extract_unzip_prep_rawdata.sh # This does the following:\n",
    "    # Unzips all original files\n",
    "    # Makes configs for Bokulich qc\n",
    "    # Runs Bokulich qc\n",
    "    # Makes configs for Illumina paired end merging\n",
    "    # Merges Illumina pairs, includes Q30 check\n",
    "    # Filters merged reads"
   ]
  },
  {
   "cell_type": "code",
   "execution_count": null,
   "metadata": {
    "collapsed": true
   },
   "outputs": [],
   "source": [
    "# Next, start using SymITS2 by Ross Cunning https://github.com/jrcunning/SymITS2\n",
    "~/SymITS2/qc_trim_reads.sh # This does the following:\n",
    "    # Adds QIIME labels\n",
    "    # Identifies chimeric sequences\n",
    "    # Filters out chimeric sequences\n",
    "    # Runs cutadapt 4 times\n",
    "    # Removes intermediate files from cutadapt process"
   ]
  },
  {
   "cell_type": "code",
   "execution_count": 1,
   "metadata": {},
   "outputs": [
    {
     "name": "stdout",
     "output_type": "stream",
     "text": [
      "\n",
      "1992785  : data/fasta/combined_seqs_trimmed.fasta (Sequence lengths (mean +/- std): 299.5748 +/- 4.5993)\n",
      "1992785  : Total\n"
     ]
    }
   ],
   "source": [
    "count_seqs.py -i data/fasta/combined_seqs_trimmed.fasta # Count how many seqs there are after quality filtering"
   ]
  },
  {
   "cell_type": "code",
   "execution_count": null,
   "metadata": {
    "collapsed": true
   },
   "outputs": [],
   "source": [
    "# From SymITS2 by Ross Cunning https://github.com/jrcunning/SymITS2\n",
    "# Cluster at 97% within samples (each sample is clustered independently)\n",
    "~/SymITS2/otus_97_bysample.sh data/fasta/combined_seqs_trimmed.fasta data/Bioinf/clust\n",
    "# Arguments are 1) Combined, trimmed sequences (fasta file) and 2) Output directory\n",
    "# Creates data/Bioinf/clust/all_rep_set_rep_set.fasta for downstream use"
   ]
  },
  {
   "cell_type": "code",
   "execution_count": null,
   "metadata": {
    "collapsed": true
   },
   "outputs": [],
   "source": [
    "# From SymITS2 by Ross Cunning https://github.com/jrcunning/SymITS2\n",
    "# Use global alignment to identify sequences\n",
    "R --vanilla < ~/SymITS2/run_nw.R --args data/Bioinf/clust/all_rep_set_rep_set.fasta data/ITS2db_trimmed_derep.fasta\n",
    "# Arguments are 1) query sequences - rep set fasta file, and 2) reference database sequences in .fasta format\n",
    "# Creates data/Bioinf/clust/all_rep_set_rep_set_nw_tophits.tsv for downstream use"
   ]
  },
  {
   "cell_type": "code",
   "execution_count": null,
   "metadata": {
    "collapsed": true
   },
   "outputs": [],
   "source": [
    "# From SymITS2 by Ross Cunning https://github.com/jrcunning/SymITS2\n",
    "# Build a phyloseq object\n",
    "R --vanilla < ~/SymITS2/build_phyloseq.R --args data/Bioinf/clust/all_rep_set_rep_set_nw_tophits.tsv data/Coralphoto__Metadata/KI_Compartment_metadata.tsv data/Bioinf/clust/97_otus_bysample.tsv data/ITS2db_trimmed_notuniques_otus.txt analyses/KI_Compartment.RData\n",
    "# Arguments are 1) nw_tophits - taxonomic assignment output from run_nw.R, 2) sample metadata in tsv format, 3) OTU table, 4) duplicate reference taxa names, 5) output filename\n",
    "# Creates analyses/KI_Compartment.RData"
   ]
  },
  {
   "cell_type": "code",
   "execution_count": null,
   "metadata": {
    "collapsed": true
   },
   "outputs": [],
   "source": [
    "# From SymITS2 by Ross Cunning https://github.com/jrcunning/SymITS2\n",
    "# Filter out sequences which do not blast to Symbiodnium\n",
    "R --vanilla < ~/SymITS2/filter_notsym.R --args analyses/KI_Compartment.RData data/Bioinf/clust/all_rep_set_rep_set.fasta analyses/KI_Compartment.RData /media/danielle/CoralDrive/blastdb\n",
    "# Output file is KI_Compartment.RData for downstream analysis (next step = analyses/KI_Compartment_filter_samples.R)"
   ]
  },
  {
   "cell_type": "code",
   "execution_count": null,
   "metadata": {
    "collapsed": true
   },
   "outputs": [],
   "source": [
    "# Build the phylogenetic tree to add to phyloseq object\n",
    "chmod u+x data/Bioinf/tree/build_phy_tree.sh # Make sure script can run\n",
    "data/Bioinf/tree/build_phy_tree.sh # Run build_phy_tree script"
   ]
  },
  {
   "cell_type": "code",
   "execution_count": null,
   "metadata": {
    "collapsed": true
   },
   "outputs": [],
   "source": [
    "# Format and filter the RData file\n",
    "R --vanilla < analyses/KI_Compartment_filter_samples.R\n",
    "# Input file is analyses/KI_Compartment.RData\n",
    "# Must run build_phy_tree first for this to work properly\n",
    "# Output file is: data/KI_seqs_f_coral_grouped.RData"
   ]
  },
  {
   "cell_type": "code",
   "execution_count": null,
   "metadata": {
    "collapsed": true
   },
   "outputs": [],
   "source": [
    "# Rarefaction\n",
    "# Multiple rarefactions to look at different sequence rarefaction depths\n",
    "# 1000 to 10000 in steps of 1000\n",
    "multiple_rarefactions.py -i data/Bioinf/clust/97_otus_bysample.biom -o data/Bioinf/clust/rarefy/mult -m 1000 -x 10000 -s 1000\n",
    "# 200 to 1000 in steps of 100\n",
    "multiple_rarefactions.py -i data/Bioinf/clust/97_otus_bysample.biom -o data/Bioinf/clust/rarefy/mult -m 200 -x 1000 -s 100\n",
    "\n",
    "# Single rarefaction to 1000 seqs\n",
    "single_rarefaction.py -i data/Bioinf/clust/97_otus_bysample.biom -o data/Bioinf/clust/rarefy/rarefaction_1000.biom --depth 1000\n",
    "# Convert .biom to tsv\n",
    "biom convert -i data/Bioinf/clust/rarefy/rarefaction_1000.biom -o data/Bioinf/clust/rarefy/rarefaction_1000.tsv --to-tsv\n",
    "# Build a phyloseq object\n",
    "R --vanilla < ~/SymITS2/build_phyloseq.R --args data/Bioinf/clust/all_rep_set_rep_set_nw_tophits.tsv data/Coralphoto__Metadata/KI_Compartment_metadata.tsv data/Bioinf/clust/rarefy/rarefaction_1000.tsv data/ITS2db_trimmed_notuniques_otus.txt analyses/KI_Compartment_rarefy.RData\n",
    "# Arguments are 1) nw_tophits - taxonomic assignment output from run_nw.R, 2) sample metadata in tsv format, 3) OTU table, 4) duplicate reference taxa names, 5) output filename\n",
    "# Creates analyses/KI_Compartment.RData\n",
    "\n",
    "# Filter out sequences which do not blast to Symbiodnium\n",
    "R --vanilla < ~/SymITS2/filter_notsym.R --args analyses/KI_Compartment_rarefy.RData data/Bioinf/clust/all_rep_set_rep_set.fasta analyses/KI_Compartment_rarefy.RData /media/danielle/CoralDrive/blastdb\n",
    "\n",
    "# Build the phylogenetic tree to add to phyloseq object\n",
    "chmod u+x data/Bioinf/tree/build_phy_tree_rare.sh # Make sure script can run\n",
    "data/Bioinf/tree/build_phy_tree_rare.sh # Run build_phy_tree script\n",
    "\n",
    "# Format and filter the RData file\n",
    "R --vanilla < analyses/KI_Compartment_filter_samples_rare.R"
   ]
  }
 ],
 "metadata": {
  "kernelspec": {
   "display_name": "Bash",
   "language": "bash",
   "name": "bash"
  },
  "language_info": {
   "codemirror_mode": "shell",
   "file_extension": ".sh",
   "mimetype": "text/x-sh",
   "name": "bash"
  }
 },
 "nbformat": 4,
 "nbformat_minor": 2
}
